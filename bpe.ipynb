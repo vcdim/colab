{
  "nbformat": 4,
  "nbformat_minor": 0,
  "metadata": {
    "colab": {
      "provenance": [],
      "authorship_tag": "ABX9TyMXxHBSMUZ2waN1J5A0rVnC",
      "include_colab_link": true
    },
    "kernelspec": {
      "name": "python3",
      "display_name": "Python 3"
    },
    "language_info": {
      "name": "python"
    }
  },
  "cells": [
    {
      "cell_type": "markdown",
      "metadata": {
        "id": "view-in-github",
        "colab_type": "text"
      },
      "source": [
        "<a href=\"https://colab.research.google.com/github/vcdim/colab/blob/main/bpe.ipynb\" target=\"_parent\"><img src=\"https://colab.research.google.com/assets/colab-badge.svg\" alt=\"Open In Colab\"/></a>"
      ]
    },
    {
      "cell_type": "markdown",
      "source": [
        "# BPE\n",
        "\n",
        "In this notebook, we implement a simple BPE algorithm. The starting point will be a string, which is usually the input of an NLP task."
      ],
      "metadata": {
        "id": "1rIoqIcI5F54"
      }
    },
    {
      "cell_type": "code",
      "execution_count": 1,
      "metadata": {
        "colab": {
          "base_uri": "https://localhost:8080/"
        },
        "id": "0h9h6V_BQyPD",
        "outputId": "0a82c517-9c02-46a3-9f5d-f7faeed94704"
      },
      "outputs": [
        {
          "output_type": "stream",
          "name": "stdout",
          "text": [
            "b'hello, \\xe4\\xbd\\xa0\\xe5\\xa5\\xbd\\xef\\xbc\\x81'\n",
            "16\n"
          ]
        }
      ],
      "source": [
        "s = \"hello, 你好！\"\n",
        "# each Chinese character takes 3 bytes.\n",
        "# note: \\x is the prefix for hex value in python.\n",
        "\n",
        "s_bytes = s.encode('utf-8')\n",
        "\n",
        "print(s_bytes)\n",
        "print(len(s_bytes))"
      ]
    },
    {
      "cell_type": "markdown",
      "source": [
        "For better modularization, we define several routines for converting between string, bytes, and integer arrays. Converting integer might is just useful for better visualization? It's probably necessary."
      ],
      "metadata": {
        "id": "crbb6IzITZBN"
      }
    },
    {
      "cell_type": "code",
      "source": [
        "def string_to_bytes(s):\n",
        "    return s.encode('utf-8')\n",
        "\n",
        "\n",
        "def bytes_to_string(b):\n",
        "    return b.decode('utf-8')\n",
        "\n",
        "\n",
        "def string_to_ints(s):\n",
        "    return [int(u) for u in string_to_bytes(s)]\n",
        "\n",
        "\n",
        "def ints_to_string(s):\n",
        "    return bytes_to_string(bytes(s))\n",
        "\n",
        "\n",
        "b = string_to_bytes(s)\n",
        "a = string_to_ints(s)\n",
        "print(f\"string             = {s}\")\n",
        "print(f\"bytes              = {b}\")\n",
        "print(f\"recover from bytes = {bytes_to_string(b)}\")\n",
        "print(f\"int array          = {a}\")\n",
        "print(f\"recover from int   = {ints_to_string(a)}\")\n",
        "\n"
      ],
      "metadata": {
        "colab": {
          "base_uri": "https://localhost:8080/"
        },
        "id": "VvjQhgqQZixS",
        "outputId": "3914e68a-1f13-4170-8545-e3afcb834ab2"
      },
      "execution_count": 4,
      "outputs": [
        {
          "output_type": "stream",
          "name": "stdout",
          "text": [
            "string             = hello, 你好！\n",
            "bytes              = b'hello, \\xe4\\xbd\\xa0\\xe5\\xa5\\xbd\\xef\\xbc\\x81'\n",
            "recover from bytes = hello, 你好！\n",
            "int array          = [104, 101, 108, 108, 111, 44, 32, 228, 189, 160, 229, 165, 189, 239, 188, 129]\n",
            "recover from int   = hello, 你好！\n"
          ]
        }
      ]
    },
    {
      "cell_type": "markdown",
      "source": [
        "Now, we have the ability to convert a string into an integer array. The next step is to write the BPE algorithm.\n",
        "\n",
        "Idea of this algorithm is pretty simple:\n",
        "- Loop\n",
        "    - Find the most frequently appeared pair;\n",
        "    - Assign a new token to the pair.\n"
      ],
      "metadata": {
        "id": "buqpPHk074iv"
      }
    },
    {
      "cell_type": "code",
      "source": [
        "def bpe(\n",
        "        a_in: list[int],\n",
        "        maxit: int = 1,\n",
        "        DEBUG: bool = False\n",
        ") -> dict[tuple[int, int]: int]:\n",
        "\n",
        "    a = a_in[:]\n",
        "    token_map = dict()\n",
        "    current_token_max = 255\n",
        "\n",
        "    for iter in range(maxit):\n",
        "        n = len(a)\n",
        "\n",
        "        # compute frequency of consecutive pairs\n",
        "        freqs = dict()\n",
        "        for i in range(n-1):\n",
        "            pair = (a[i], a[i+1])\n",
        "            if pair in freqs:\n",
        "                freqs[pair] += 1\n",
        "            else:\n",
        "                freqs[pair] = 1\n",
        "\n",
        "        # compute the most frequent pairs\n",
        "        max_pair = max(freqs, key=freqs.get)\n",
        "        current_token_max += 1\n",
        "        token_map[max_pair] = current_token_max\n",
        "\n",
        "        i = 0\n",
        "        n = len(a)\n",
        "        while (i < n - 1):\n",
        "            pair = (a[i], a[i+1])\n",
        "            if pair in token_map:\n",
        "                a.pop(i)\n",
        "                a.pop(i)\n",
        "                a.insert(i, token_map[pair])\n",
        "                n -= 1\n",
        "            else:\n",
        "                i += 1\n",
        "\n",
        "        if DEBUG:\n",
        "            print(f\"{a = }\")\n",
        "            print(f\"{token_map = }\")\n",
        "            print(f\"{freqs = }\")\n",
        "\n",
        "    return token_map"
      ],
      "metadata": {
        "id": "SaUl2dhCZrAW"
      },
      "execution_count": 9,
      "outputs": []
    },
    {
      "cell_type": "markdown",
      "source": [
        "The output is a token map, which is `(int, int) -> int`."
      ],
      "metadata": {
        "id": "NFGaLBM488Km"
      }
    },
    {
      "cell_type": "code",
      "source": [
        "def encode(a_in, token_map):\n",
        "    # make a copy\n",
        "    a = a_in[:]\n",
        "\n",
        "    n = len(a)\n",
        "    i = 0\n",
        "    while i < n - 1:\n",
        "        pair = (a[i], a[i+1])\n",
        "        if pair in token_map:\n",
        "            a.pop(i)\n",
        "            a.pop(i)\n",
        "            a.insert(i, token_map[pair])\n",
        "            n -= 1\n",
        "        else:\n",
        "            i += 1\n",
        "\n",
        "    return a"
      ],
      "metadata": {
        "id": "y7NqBJFRdD11"
      },
      "execution_count": 10,
      "outputs": []
    },
    {
      "cell_type": "code",
      "source": [
        "def decode(a_in, token_map):\n",
        "    a = a_in[:]\n",
        "    n = len(a)\n",
        "    i = 0\n",
        "    token_map_inv = {v: k for k, v in token_map.items()}\n",
        "\n",
        "    while i < n:\n",
        "        v = a[i]\n",
        "        if v in token_map_inv:\n",
        "            pair = token_map_inv[v]\n",
        "            a.pop(i)\n",
        "            a.insert(i, pair[1])\n",
        "            a.insert(i, pair[0])\n",
        "            n += 1\n",
        "        else:\n",
        "            i += 1\n",
        "\n",
        "    return a"
      ],
      "metadata": {
        "id": "aXDFj5aFjd83"
      },
      "execution_count": 11,
      "outputs": []
    },
    {
      "cell_type": "code",
      "source": [
        "s = 'hello, hello, hola, aloha, cat, bat, hat, mat'\n",
        "a = string_to_ints(s)\n",
        "token_map = bpe(a, 10)\n",
        "print(token_map)\n",
        "print(a)\n",
        "print(len(a))\n",
        "\n",
        "a_encoded = encode(a, token_map)\n",
        "print(a_encoded)\n",
        "print(len(a_encoded))\n",
        "\n",
        "a_restored = decode(a, token_map)\n",
        "print(a_restored)\n",
        "print(len(a_restored))\n"
      ],
      "metadata": {
        "colab": {
          "base_uri": "https://localhost:8080/"
        },
        "id": "-zEbupNnk7ww",
        "outputId": "27bef98b-338d-411e-b48b-a57f0f82e419"
      },
      "execution_count": 16,
      "outputs": [
        {
          "output_type": "stream",
          "name": "stdout",
          "text": [
            "{(44, 32): 256, (97, 116): 257, (108, 111): 258, (256, 104): 259, (101, 108): 260, (260, 258): 261, (261, 259): 262, (97, 256): 263, (257, 256): 264, (104, 262): 265}\n",
            "[104, 101, 108, 108, 111, 44, 32, 104, 101, 108, 108, 111, 44, 32, 104, 111, 108, 97, 44, 32, 97, 108, 111, 104, 97, 44, 32, 99, 97, 116, 44, 32, 98, 97, 116, 44, 32, 104, 97, 116, 44, 32, 109, 97, 116]\n",
            "45\n",
            "[104, 260, 258, 259, 260, 258, 259, 111, 108, 97, 256, 97, 258, 104, 97, 256, 99, 257, 256, 98, 257, 259, 257, 256, 109, 257]\n",
            "26\n",
            "[104, 101, 108, 108, 111, 44, 32, 104, 101, 108, 108, 111, 44, 32, 104, 111, 108, 97, 44, 32, 97, 108, 111, 104, 97, 44, 32, 99, 97, 116, 44, 32, 98, 97, 116, 44, 32, 104, 97, 116, 44, 32, 109, 97, 116]\n",
            "45\n"
          ]
        }
      ]
    },
    {
      "cell_type": "markdown",
      "source": [
        "Questions\n",
        "- How to choose the number of iteration?\n",
        "- Is there any space for optimization?\n",
        "- What is the current time-space complexity?"
      ],
      "metadata": {
        "id": "IpnHcHZI--fV"
      }
    },
    {
      "cell_type": "code",
      "source": [],
      "metadata": {
        "id": "Yz4EotgK__W7"
      },
      "execution_count": null,
      "outputs": []
    }
  ]
}